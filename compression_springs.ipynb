{
 "metadata": {
  "name": "",
  "signature": "sha256:a3d6c4f8f54cb310d6146bfd6d01b352ed797f4bd778a5fa5b92cbed09bd33bf"
 },
 "nbformat": 3,
 "nbformat_minor": 0,
 "worksheets": [
  {
   "cells": [
    {
     "cell_type": "markdown",
     "metadata": {},
     "source": [
      "#Helical Spring Analysis and Design\n",
      "This notebook and associated python functions are meant to be first order tools for the design and analysis of helical springs.  \n",
      "\n",
      "The first Section introduces the governing equations which model ideal helical spring behavior as a function of its geometrical and material properties.\n",
      "\n",
      "The second section calculates the spring properties of an example spring on the [Efunda](http://www.efunda.com/designstandards/springs/calc_comp_designer.cfm) website as a test of the implementation used here.\n",
      "\n",
      "The third section works through an example spring design given a set of design requirements."
     ]
    },
    {
     "cell_type": "markdown",
     "metadata": {},
     "source": [
      "##Governing Equations\n",
      "![Helical Spring Diagram](compression_spring.png \"Helical Spring Diagram\")"
     ]
    },
    {
     "cell_type": "markdown",
     "metadata": {},
     "source": [
      "The spring constant of a helical spring may be calculated:\n",
      "$$\n",
      "k = \\frac{Gd^4}{8n_aD^3}\n",
      "$$\n",
      "Where $G$ is the shear modulus, $d$ is the diameter of the wire, $n_a$ is the number of coils active in the spring, and $D$ is the mean diameter of the coil.  (The figure above has 6 active coils.)\n",
      "\n",
      "The shear modulus is a property of the material.\n",
      "$$\n",
      "G = \\frac{E}{2(1+v)}\n",
      "$$\n",
      "Where $E$ is [Young's modulus](http://en.wikipedia.org/wiki/Young%27s_modulus) of the material and $v$ is [Poisson's](http://en.wikipedia.org/wiki/Poisson%27s_ratio) ratio.\n",
      "\n",
      "The pitch of the coil is then:\n",
      "$$\n",
      "p = \\frac{L_{free}}{n_a}\n",
      "$$\n",
      "Where $L_{free}$ is the free length of the spring.\n",
      "\n",
      "and the coil angle is then:\n",
      "$$\n",
      "\\alpha = tan^{-1}\\frac{p}{\\pi D}\n",
      "$$"
     ]
    },
    {
     "cell_type": "markdown",
     "metadata": {},
     "source": [
      "##Design Rules\n",
      "These governing equations only hold when their underlying assumptions about the material are valid.  After working through the mathematics, it is worthwhile to check to make sure that the material will behave properly for this design."
     ]
    },
    {
     "cell_type": "markdown",
     "metadata": {},
     "source": [
      "###Spring Index\n",
      "The spring index is the ratio of mean spring diameter to wire diameter\n",
      "$$\n",
      "C=\\frac{D}{d}\n",
      "$$\n",
      "If the spring index is small, that means that the wire diameter is large compared to the overall spring diameter and the curvatures of the spring wire are very high.  This requires high stresses in the material and on the tooling used to create the tooling.  As a rule of thumb, spring indexes smaller than about 4-5 are hard to manufacture.\n",
      "\n",
      "If the spring index is too large, then the wire diameter is quite small compared to the spring diameter and the spring does not have a great deal of mechanical integrity on its own.  Springs with indexes above about 15 tend to yield higher variability and are difficult to manufacture precisely.  \n",
      "\n",
      "Spring indexes between 6-12 are considered ideal and 13-15 generally doable."
     ]
    },
    {
     "cell_type": "markdown",
     "metadata": {},
     "source": [
      "###Shear strength\n",
      "These equations assume that the material stress-strain relationship is linear and elastic.  For this to be true the spring must operate at stresses bellow the yield stress, especially for large numbers of cycles.  A good design rule of thumb is that the shear stresses should be no more than 30% to 50% of the ultimate stress of the material.\n",
      "\n",
      "The shear stresses may be calculated by first considering the maximum axial force on the spring:\n",
      "$$\n",
      "F_{max} = k(L_{free} - L_{solid})\n",
      "$$\n",
      "The free length is often given, and the solid length can be found by multiplying the wire wire thickness by the number of coils.\n",
      "$$\n",
      "L_{solid} = d(n_a+2)\n",
      "$$\n",
      "The solid length can be though of the length of the spring when is is fully compressed.  The maximum shear is then:\n",
      "$$\n",
      "\\tau_{max}=F_{max}\\frac{8DW}{\\pi d^3}\n",
      "$$\n",
      "Where $W$ is the Wahl correction factor (a geometric correction factor taking into account the curvature of the coils):\n",
      "$$\n",
      "W = \\frac{4C-1}{4C-4} + \\frac{0.615}{C}\n",
      "$$\n"
     ]
    },
    {
     "cell_type": "markdown",
     "metadata": {},
     "source": [
      "##Test Case\n",
      "The implementation will be tested by following the Efunda example [here](http://www.efunda.com/designstandards/springs/calc_comp_designer.cfm)."
     ]
    },
    {
     "cell_type": "markdown",
     "metadata": {},
     "source": [
      "### Spring properties\n",
      "First we will solve for spring properties given material and physical parameters"
     ]
    },
    {
     "cell_type": "code",
     "collapsed": false,
     "input": [
      "from springs import Material, Spring\n",
      "import units as u\n",
      "\n",
      "steel   =  Material(Material.STEEL)\n",
      "d_mean  = (0.500-0.035)*u.inch\n",
      "d_wire  = 0.035*u.inch\n",
      "L_free  = 1*u.inch\n",
      "n_coils = 8\n",
      "efunda  = Spring(d_mean, d_wire, L_free, n_coils, steel)\n",
      "efunda.print_properties('En', 'efunda')"
     ],
     "language": "python",
     "metadata": {},
     "outputs": [
      {
       "output_type": "stream",
       "stream": "stdout",
       "text": [
        "-------------------------------------\n",
        "Spring: efunda\n",
        "-------------------------------------\n",
        "Outer diameter       :0.500 in\n",
        "Mean diameter        :0.465 in\n",
        "Inside diameter      :0.430 in\n",
        "Wire diameter        :0.035 in\n",
        "Free length          :1.000 in\n",
        "Number of coils      :8.0 \n",
        "Spring constant      :2.60e+00 lbf/in\n",
        "Spring index [5-15]  :13.3\n",
        "Max force possible   :1.69e+00 lbf\n",
        "Max shear stress     :5.17e+01 ksi\n",
        "Solid height         :0.350 in\n",
        "Max displacement     :0.650 in\n",
        "Coil pitch           :0.125 in per coil \n",
        "Rise angle           :4.89 deg\n",
        "Spring wire length   :14.651 in\n"
       ]
      }
     ],
     "prompt_number": 3
    },
    {
     "cell_type": "markdown",
     "metadata": {},
     "source": [
      "These numbers match the efunda calculator reference within displayed precision.\n",
      "\n",
      "Here we can see that the spring has a spring constant $k$=2.6 lb/in and a spring index $C$=13.3 which is toward the upper end of desirable.\n",
      "\n",
      "The shear stress in the wire is maximally 51 ksi which is less than 30% of ~250 ksi, a typical yield stress for drawn music wire in this diameter range."
     ]
    },
    {
     "cell_type": "markdown",
     "metadata": {},
     "source": [
      "### Solving for wire diameter\n",
      "Now going backward, solve for the spring diameter to yield the desired spring rate."
     ]
    },
    {
     "cell_type": "code",
     "collapsed": false,
     "input": [
      "d_mean  = (0.5-0.035)*u.inch\n",
      "n_coils = 8\n",
      "k       = 2.6*u.lbf/u.inch\n",
      "d_wire  = Spring.solve_diameter(d_mean, n_coils, k, steel)\n",
      "print 'The recommended spring diameter is: %.3f in (efunda)' % \\\n",
      "    (d_wire / u.inch)"
     ],
     "language": "python",
     "metadata": {},
     "outputs": [
      {
       "output_type": "stream",
       "stream": "stdout",
       "text": [
        "The recommended spring diameter is: 0.035 in (efunda)\n"
       ]
      }
     ],
     "prompt_number": 4
    },
    {
     "cell_type": "markdown",
     "metadata": {},
     "source": [
      "The wire diameter calculator correctly returned $d$=0.035 in, the value we input in the forward equation above."
     ]
    },
    {
     "cell_type": "markdown",
     "metadata": {},
     "source": [
      "##Worked Example\n",
      "The process of homing in on a spring design is often iterative. Given these requirements:\n",
      "1. The inside diameter is 3/8 in\n",
      "1. The spring travel is 1 in\n",
      "1. The spring preload shall be 2 lb\n",
      "1. The spring force at full travel shall be 4 lb\n",
      "\n",
      "Pick a spring that is easy to manufacture and reliable over its life.\n",
      "\n",
      "As a starting point, we can solve for the desired spring rate:"
     ]
    },
    {
     "cell_type": "code",
     "collapsed": false,
     "input": [
      "F_pre   = 2*u.lbf\n",
      "F_max   = 4*u.lbf\n",
      "travel  = 1*u.inch\n",
      "k       = (F_max - F_pre) / (travel)\n",
      "print 'The desired spring rate is %.1f lbf/in \\n' % (k / u.lbf * u.inch)"
     ],
     "language": "python",
     "metadata": {},
     "outputs": [
      {
       "output_type": "stream",
       "stream": "stdout",
       "text": [
        "The desired spring rate is 2.0 lbf/in \n",
        "\n"
       ]
      }
     ],
     "prompt_number": 31
    },
    {
     "cell_type": "markdown",
     "metadata": {},
     "source": [
      "As starting points, lets guess .375in for the mean diameter and 8 coils per inch as in the above example.  \n",
      "\n",
      "We also know we want a 2 lb preload on the spring and 1 inch of travel at a spring rate of 2 lbf/in.  Since the so the spring must be longer than 2 inches minimum to account for spring wire thickness, lets pick 3 in in as a starting guess."
     ]
    },
    {
     "cell_type": "code",
     "collapsed": false,
     "input": [
      "steel   =  Material(Material.STEEL)\n",
      "d_mean  = (0.375)*u.inch\n",
      "L       = F_max / k + 1*u.inch\n",
      "pitch   = 8 / u.inch                 #coils per inch\n",
      "n_coils = L*pitch\n",
      "d_wire = Spring.solve_diameter(d_mean, n_coils, k, steel)\n",
      "s = Spring(d_mean, d_wire, L, n_coils, steel)\n",
      "s.print_properties('En','Custom Spring')"
     ],
     "language": "python",
     "metadata": {},
     "outputs": [
      {
       "output_type": "stream",
       "stream": "stdout",
       "text": [
        "-------------------------------------\n",
        "Spring: Custom Spring\n",
        "-------------------------------------\n",
        "Outer diameter       :0.412 in\n",
        "Mean diameter        :0.375 in\n",
        "Inside diameter      :0.338 in\n",
        "Wire diameter        :0.037 in\n",
        "Free length          :3.000 in\n",
        "Number of coils      :24.0 \n",
        "Spring constant      :2.00e+00 lbf/in\n",
        "Spring index [5-15]  :10.2\n",
        "Max force possible   :4.09e+00 lbf\n",
        "Max shear stress     :9.02e+01 ksi\n",
        "Solid height         :0.954 in\n",
        "Max displacement     :2.046 in\n",
        "Coil pitch           :0.125 in per coil \n",
        "Rise angle           :6.06 deg\n",
        "Spring wire length   :30.789 in\n"
       ]
      }
     ],
     "prompt_number": 6
    },
    {
     "cell_type": "markdown",
     "metadata": {},
     "source": [
      "On the first iteration we see that quite a few assumptions are marginal.  Lets first start with the understanding that the wire diameter will be in the neighborhood of .037 in and the inside diameter too small.  Lets bump the mean diameter by 0.045 and see where we come out"
     ]
    },
    {
     "cell_type": "code",
     "collapsed": false,
     "input": [
      "steel   =  Material(Material.STEEL)\n",
      "d_mean  = (0.375 + 0.045)*u.inch\n",
      "L       = F_max / k + 1*u.inch\n",
      "pitch   = 8 / u.inch                 #coils per inch\n",
      "n_coils = L*pitch\n",
      "d_wire = Spring.solve_diameter(d_mean, n_coils, k, steel)\n",
      "s = Spring(d_mean, d_wire, L, n_coils, steel)\n",
      "s.print_properties('En','Custom Spring')"
     ],
     "language": "python",
     "metadata": {},
     "outputs": [
      {
       "output_type": "stream",
       "stream": "stdout",
       "text": [
        "-------------------------------------\n",
        "Spring: Custom Spring\n",
        "-------------------------------------\n",
        "Outer diameter       :0.460 in\n",
        "Mean diameter        :0.420 in\n",
        "Inside diameter      :0.380 in\n",
        "Wire diameter        :0.040 in\n",
        "Free length          :3.000 in\n",
        "Number of coils      :24.0 \n",
        "Spring constant      :2.00e+00 lbf/in\n",
        "Spring index [5-15]  :10.5\n",
        "Max force possible   :3.92e+00 lbf\n",
        "Max shear stress     :7.47e+01 ksi\n",
        "Solid height         :1.039 in\n",
        "Max displacement     :1.961 in\n",
        "Coil pitch           :0.125 in per coil \n",
        "Rise angle           :5.41 deg\n",
        "Spring wire length   :34.448 in\n"
       ]
      }
     ],
     "prompt_number": 7
    },
    {
     "cell_type": "markdown",
     "metadata": {},
     "source": [
      "The inside diameter is now as desired plus a little clearance.  Next on the list we see that the total spring travel is less than 2 in, and that the max force is less than our 4lb requirements.  To accommodate for this, increase the free length to 4 in."
     ]
    },
    {
     "cell_type": "code",
     "collapsed": false,
     "input": [
      "steel   =  Material(Material.STEEL)\n",
      "d_mean  = (0.375 + 0.045)*u.inch\n",
      "L       = F_max / k + 2*u.inch\n",
      "pitch   = 8 / u.inch                 #coils per inch\n",
      "n_coils = L*pitch\n",
      "d_wire = Spring.solve_diameter(d_mean, n_coils, k, steel)\n",
      "s = Spring(d_mean, d_wire, L, n_coils, steel)\n",
      "s.print_properties('En','Custom Spring')"
     ],
     "language": "python",
     "metadata": {},
     "outputs": [
      {
       "output_type": "stream",
       "stream": "stdout",
       "text": [
        "-------------------------------------\n",
        "Spring: Custom Spring\n",
        "-------------------------------------\n",
        "Outer diameter       :0.463 in\n",
        "Mean diameter        :0.420 in\n",
        "Inside diameter      :0.377 in\n",
        "Wire diameter        :0.043 in\n",
        "Free length          :4.000 in\n",
        "Number of coils      :32.0 \n",
        "Spring constant      :2.00e+00 lbf/in\n",
        "Spring index [5-15]  :9.8\n",
        "Max force possible   :5.08e+00 lbf\n",
        "Max shear stress     :7.88e+01 ksi\n",
        "Solid height         :1.460 in\n",
        "Max displacement     :2.540 in\n",
        "Coil pitch           :0.125 in per coil \n",
        "Rise angle           :5.41 deg\n",
        "Spring wire length   :45.051 in\n"
       ]
      }
     ],
     "prompt_number": 8
    },
    {
     "cell_type": "markdown",
     "metadata": {},
     "source": [
      "On this final spring the diameters, travel, and max force all look good.  The spring index is in a good range and the maximum shear stress is ~30% of the yield stress of music wire in this range."
     ]
    },
    {
     "cell_type": "markdown",
     "metadata": {},
     "source": [
      "##Future work\n",
      "1. Include an estimate for the yield strengths of various diameters of music wire\n",
      "1. Calculate the % max shear stress directly\n",
      "1. Look for a way to set maximum shear as a parameter and solve for pitch or similar directly\n",
      "1. Incorporate a parameterized widget to allow real-time adjusting of the different parameters\n",
      "1. Add discussion on after treatment such as shot peening\n",
      "1. Add discussion around the influence of each free parameter"
     ]
    },
    {
     "cell_type": "code",
     "collapsed": false,
     "input": [],
     "language": "python",
     "metadata": {},
     "outputs": []
    },
    {
     "cell_type": "code",
     "collapsed": false,
     "input": [
      "from IPython.display import HTML\n",
      "from ipynb_utils import inject_css, toggle_js, inject_css2\n",
      "HTML(inject_css2('custom.css'))"
     ],
     "language": "python",
     "metadata": {},
     "outputs": [
      {
       "html": [
        "<style>\n",
        "#notebook_panel { /* main background */\n",
        "    background: #fff;\n",
        "    color: #f6f6f6;\n",
        "}\n",
        "\n",
        "div #notebook { /* center the content */\n",
        "    background: #fff;\n",
        "    width: 800px;\n",
        "    margin: auto;\n",
        "    padding-left: 10px;\n",
        "    padding-right: 10px;\n",
        "    padding-top: 10px;\n",
        "}\n",
        "\n",
        ".rendered_html *+ol, *+ul{ /* Remove margin at top of lists*/\n",
        "    margin-top:0;\n",
        "}\n",
        "\n",
        "\n",
        "#notebook li { /* More space between bullet points */\n",
        "    margin-top:6pt;\n",
        "}\n",
        "\n",
        "div.container { /* make the widths match */\n",
        "    width: 780px;\n",
        "}\n",
        "\n",
        "/*The cell is the fundamemntal container for each chunk of work, markdown*/\n",
        "/*code, etc. */\n",
        "div.cell { \n",
        "    width: 760px;\n",
        "}\n",
        "\n",
        "div.CodeMirror { /* code input area */\n",
        "    font-family: \"Inconsolata-dz\", monospace;\n",
        "    font-size: 12pt;\n",
        "}\n",
        "\n",
        "div.cell.code_cell { /* Code output area, print statements, etc */\n",
        "    font-size: 12pt;\n",
        "    line-height: 115%;\n",
        "    background: #fff;\n",
        "    border: none;\n",
        "    border-radius: 4px;\n",
        "    padding-top: 1ex;\n",
        "}\n",
        "\n",
        "/*area that contains rendered markdown*/\n",
        "div.text_cell_render{\n",
        "    font-family: Computer Modern, \"Helvetica Neue\", Arial, Helvetica, Geneva, sans-serif;\n",
        "    font-size: 14pt;\n",
        "    line-height: 130%;\n",
        "    margin-left:auto;\n",
        "    margin-right:auto;\n",
        "}\n",
        "\n",
        ".rendered_html h1 {\n",
        "    margin: 0;\n",
        "    padding: 0;\n",
        "}\n",
        "\n",
        ".rendered_html h2 {\n",
        "    margin: 0;\n",
        "    padding: 0;\n",
        "}\n",
        "\n",
        ".rendered_html h3 {\n",
        "    margin: 0;\n",
        "    padding: 0;\n",
        "}\n",
        "\n",
        "div.input_area { /* box around box with code */\n",
        "    border: none;\n",
        "    background: #f5f5f5;\n",
        "    border: 1px solid #ccc;\n",
        "    border-radius: 5px;\n",
        "    padding-top: 0.5ex;\n",
        "    padding-bottom: 0.5ex;\n",
        "    padding-left: 0.5em;\n",
        "}\n",
        "\n",
        "div.prompt { /* remove In/Out prompt */\n",
        "    display: none;\n",
        "}\n",
        "\n",
        "div.output_subarea { /* remove margin in front of output */\n",
        "    border: none;\n",
        "}\n",
        "\n",
        "div.cell.border-box-sizing.code_cell.running { \n",
        "    /* draw border around running cells */\n",
        "    border: 3px dotted #f33;\n",
        "}\n",
        "\n",
        "/* header colours and fonts */\n",
        "h1 { color: #444; }\n",
        "h2 { color: #444; }\n",
        "h3 { color: #444; }\n",
        "h4 { color: #444; }\n",
        "h5 { color: #444; }\n",
        "h6 { color: #444; }\n",
        "\n",
        "\n",
        "/* remove big margins around title */\n",
        "div.text_cell_render.border-box-sizing.rendered_html {\n",
        "    margin: 0;\n",
        "    padding: 0; \n",
        "    margin-left: 1ex;\n",
        "}\n",
        "\n",
        "</style>"
       ],
       "metadata": {},
       "output_type": "pyout",
       "prompt_number": 67,
       "text": [
        "<IPython.core.display.HTML at 0x1044e8cd0>"
       ]
      }
     ],
     "prompt_number": 67
    },
    {
     "cell_type": "code",
     "collapsed": false,
     "input": [],
     "language": "python",
     "metadata": {},
     "outputs": [],
     "prompt_number": 58
    }
   ],
   "metadata": {}
  }
 ]
}